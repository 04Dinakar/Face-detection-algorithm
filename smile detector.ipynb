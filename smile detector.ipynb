{
 "cells": [
  {
   "cell_type": "code",
   "execution_count": 22,
   "id": "d9275b34-553e-404e-b586-8196723c6589",
   "metadata": {},
   "outputs": [],
   "source": [
    "import cv2\n",
    "import matplotlib.pyplot as plt"
   ]
  },
  {
   "cell_type": "code",
   "execution_count": 23,
   "id": "4b423ef3-22e4-437b-aa8a-ea2a3f5a367f",
   "metadata": {},
   "outputs": [],
   "source": [
    "detector=cv2.CascadeClassifier('./haarcascade_smile.xml')"
   ]
  },
  {
   "cell_type": "code",
   "execution_count": 24,
   "id": "cd728112-89df-4b71-92f8-b59a4c2a60e9",
   "metadata": {},
   "outputs": [],
   "source": [
    "cam=cv2.VideoCapture(0)"
   ]
  },
  {
   "cell_type": "code",
   "execution_count": 18,
   "id": "fc50f043-a29f-428b-8b6d-c5adb7fb24cd",
   "metadata": {},
   "outputs": [],
   "source": [
    "while True:\n",
    "    ret,frame=cam.read()\n",
    "    if ret==False:\n",
    "        continue\n",
    "    allsmiles=detector.detectMultiScale(frame,1.3,70)\n",
    "    \n",
    "    for smile in allsmiles:\n",
    "        x,y,w,h=smile\n",
    "        frame=cv2.rectangle(frame,(x,y),(x+w,y+h),(0,0,255),2)\n",
    "    cv2.imshow(\"Smile Detector\",frame)\n",
    "    key=cv2.waitKey(1)&0xFF\n",
    "    if key==ord('q'):\n",
    "        break\n",
    "cam.release()\n",
    "cv2.destroyAllWindows()"
   ]
  },
  {
   "cell_type": "code",
   "execution_count": 25,
   "id": "8697ccec-bc14-465c-9bfb-e5964d9df5b5",
   "metadata": {},
   "outputs": [],
   "source": [
    "\n",
    "\n",
    "while True:\n",
    "    \n",
    "    ret, frame = cam.read()\n",
    "    \n",
    "    if ret == False:\n",
    "        continue\n",
    "        \n",
    "    all_smiles = detector.detectMultiScale(frame, 1.5, 70)\n",
    "    \n",
    "    sorted_smile = sorted(all_smiles, key = lambda s: s[-1]*s[-2] )\n",
    "    \n",
    "    if sorted_smile:\n",
    "        x,y,w,h = sorted_smile[0]\n",
    "        cv2.rectangle(frame, (x,y), (x+w, y+h),(0,0,255), 2 )\n",
    "        \n",
    "    cv2.imshow(\"Smile Detector\", frame)\n",
    "    \n",
    "    key_pressed = cv2.waitKey(1) & 0xFF\n",
    "    if key_pressed == ord('q'):\n",
    "        break\n",
    "        \n",
    "cam.release()\n",
    "cv2.destroyAllWindows()"
   ]
  }
 ],
 "metadata": {
  "kernelspec": {
   "display_name": "Python 3 (ipykernel)",
   "language": "python",
   "name": "python3"
  },
  "language_info": {
   "codemirror_mode": {
    "name": "ipython",
    "version": 3
   },
   "file_extension": ".py",
   "mimetype": "text/x-python",
   "name": "python",
   "nbconvert_exporter": "python",
   "pygments_lexer": "ipython3",
   "version": "3.11.9"
  }
 },
 "nbformat": 4,
 "nbformat_minor": 5
}
